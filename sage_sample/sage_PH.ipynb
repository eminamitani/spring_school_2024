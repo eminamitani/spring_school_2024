{
 "cells": [
  {
   "cell_type": "markdown",
   "metadata": {},
   "source": [
    "# Sagemath サンプル"
   ]
  },
  {
   "cell_type": "markdown",
   "metadata": {},
   "source": [
    "このサンプルは、Sagemathを使って、実習資料中の標準形やホモロジーの計算を行う例を示しています。"
   ]
  },
  {
   "cell_type": "markdown",
   "metadata": {},
   "source": [
    "中身の詰まった４面体と、中空の４面体でのホモロジー群を計算してみましょう。\n",
    "中身が詰まった（３単体になっている）場合を考えてみます。SageMathは最も次数の高い単体を指定して、単体的複体を定義すると、必要な面も全て含んだものが用意されます。\n",
    "\n",
    "ホモロジー群の計算には、デフォルトではReduced Homologyが計算され、これはスライドで説明したものと少し違うので、定義通りのホモロジー群を計算させるには、reduced=False のオプションを使います。"
   ]
  },
  {
   "cell_type": "markdown",
   "metadata": {},
   "source": [
    "資料と同じ、係数がF2の場合を試します。"
   ]
  },
  {
   "cell_type": "code",
   "execution_count": 1,
   "metadata": {
    "vscode": {
     "languageId": "julia"
    }
   },
   "outputs": [
    {
     "data": {
      "text/plain": [
       "{0: Vector space of dimension 1 over Finite Field of size 2,\n",
       " 1: Vector space of dimension 0 over Finite Field of size 2,\n",
       " 2: Vector space of dimension 0 over Finite Field of size 2,\n",
       " 3: Vector space of dimension 0 over Finite Field of size 2}"
      ]
     },
     "execution_count": 1,
     "metadata": {},
     "output_type": "execute_result"
    }
   ],
   "source": [
    "X=SimplicialComplex([[0,1,2,3]])\n",
    "X.homology(reduced=False, base_ring=GF(2))"
   ]
  },
  {
   "cell_type": "markdown",
   "metadata": {},
   "source": [
    "0次以外は０になっていますね。"
   ]
  },
  {
   "cell_type": "markdown",
   "metadata": {},
   "source": [
    "中身が空の四面体ではどうでしょうか？さっきの議論だと、２次のホモロジー群は上の例と違ってF2が答えになるはずです。"
   ]
  },
  {
   "cell_type": "code",
   "execution_count": 2,
   "metadata": {
    "vscode": {
     "languageId": "julia"
    }
   },
   "outputs": [
    {
     "data": {
      "text/plain": [
       "{0: Vector space of dimension 1 over Finite Field of size 2,\n",
       " 1: Vector space of dimension 0 over Finite Field of size 2,\n",
       " 2: Vector space of dimension 1 over Finite Field of size 2}"
      ]
     },
     "execution_count": 2,
     "metadata": {},
     "output_type": "execute_result"
    }
   ],
   "source": [
    "X=SimplicialComplex([[0,1,2],[1,2,3],[0,2,3],[0,1,3]])\n",
    "X.homology(reduced=False, base_ring=GF(2))"
   ]
  },
  {
   "cell_type": "markdown",
   "metadata": {},
   "source": [
    "ちなみに、数学の教科書で通常使われる整数係数でのホモロジー群は、以下のようにして計算できます。"
   ]
  },
  {
   "cell_type": "markdown",
   "metadata": {},
   "source": [
    "中身の詰まった四面体の計算"
   ]
  },
  {
   "cell_type": "code",
   "execution_count": 3,
   "metadata": {
    "vscode": {
     "languageId": "julia"
    }
   },
   "outputs": [
    {
     "data": {
      "text/plain": [
       "{0: Z, 1: 0, 2: 0, 3: 0}"
      ]
     },
     "execution_count": 3,
     "metadata": {},
     "output_type": "execute_result"
    }
   ],
   "source": [
    "X=SimplicialComplex([[0,1,2,3]])\n",
    "X.homology(reduced=False)"
   ]
  },
  {
   "cell_type": "markdown",
   "metadata": {},
   "source": [
    "中身が詰まっていない四面体の計算"
   ]
  },
  {
   "cell_type": "code",
   "execution_count": 4,
   "metadata": {
    "vscode": {
     "languageId": "julia"
    }
   },
   "outputs": [
    {
     "data": {
      "text/plain": [
       "{0: Z, 1: 0, 2: Z}"
      ]
     },
     "execution_count": 4,
     "metadata": {},
     "output_type": "execute_result"
    }
   ],
   "source": [
    "X=SimplicialComplex([[0,1,2],[1,2,3],[0,2,3],[0,1,3]])\n",
    "X.homology(reduced=False)"
   ]
  },
  {
   "cell_type": "markdown",
   "metadata": {},
   "source": [
    "おまけとして、バウンダリ行列のところの例での標準形の計算方法も載せておきます。"
   ]
  },
  {
   "cell_type": "code",
   "execution_count": 5,
   "metadata": {
    "vscode": {
     "languageId": "julia"
    }
   },
   "outputs": [
    {
     "data": {
      "text/plain": [
       "(\n",
       "[1 0 0 0]  [1 0 0 0 0 0]           \n",
       "[0 1 0 0]  [1 1 0 0 0 0]           \n",
       "[0 0 1 0]  [0 1 0 1 0 0]  [1 1 1 1]\n",
       "[0 0 0 0]  [1 1 1 0 0 0]  [0 1 1 1]\n",
       "[0 0 0 0]  [1 0 0 1 1 0]  [0 0 1 1]\n",
       "[0 0 0 0], [0 1 0 1 0 1], [0 0 0 1]\n",
       ")"
      ]
     },
     "execution_count": 5,
     "metadata": {},
     "output_type": "execute_result"
    }
   ],
   "source": [
    "A2=matrix(GF(2),[[1,1,0,0],[1,0,1,0],[0,1,1,0],[1,0,0,1],[0,1,0,1],[0,0,1,1]])\n",
    "A2.smith_form()"
   ]
  },
  {
   "cell_type": "code",
   "execution_count": 6,
   "metadata": {
    "vscode": {
     "languageId": "julia"
    }
   },
   "outputs": [
    {
     "data": {
      "text/plain": [
       "(\n",
       "                          [1 1 0 1 1 0]\n",
       "                          [0 1 1 1 0 1]\n",
       "[1 0 0 0 0 0]  [1 0 0 0]  [0 0 1 0 1 1]\n",
       "[0 1 0 0 0 0]  [1 1 0 0]  [0 0 0 1 0 0]\n",
       "[0 0 1 0 0 0]  [1 1 1 0]  [0 0 0 0 1 0]\n",
       "[0 0 0 0 0 0], [1 1 1 1], [0 0 0 0 0 1]\n",
       ")"
      ]
     },
     "execution_count": 6,
     "metadata": {},
     "output_type": "execute_result"
    }
   ],
   "source": [
    "A1=matrix(GF(2),[[1,1,1,0,0,0],[1,0,0,1,1,0],[0,1,0,1,0,1],[0,0,1,0,1,1]])\n",
    "A1.smith_form()"
   ]
  }
 ],
 "metadata": {
  "kernelspec": {
   "display_name": "SageMath 9.7",
   "language": "sage",
   "name": "SageMath-9.7"
  },
  "language_info": {
   "codemirror_mode": {
    "name": "ipython",
    "version": 3
   },
   "file_extension": ".py",
   "mimetype": "text/x-python",
   "name": "python",
   "nbconvert_exporter": "python",
   "pygments_lexer": "ipython3",
   "version": "3.10.5"
  }
 },
 "nbformat": 4,
 "nbformat_minor": 2
}
